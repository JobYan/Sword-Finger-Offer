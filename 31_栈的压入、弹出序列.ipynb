{
 "cells": [
  {
   "cell_type": "markdown",
   "source": [
    "# 题目: 栈的压入、弹出序列\r\n",
    "描述\r\n",
    "输入两个整数序列，第一个序列表示栈的压入顺序，请判断第二个序列是否可能为该栈的弹出顺序。  \r\n",
    "假设压入栈的所有数字均不相等。例如序列1,2,3,4,5是某栈的压入顺序，序列4,5,3,2,1是该压栈序列对应的一个弹出序列，  \r\n",
    "但4,3,5,1,2就不可能是该压栈序列的弹出序列。（注意：这两个序列的长度是相等的）\r\n",
    "示例1\r\n",
    "输入：\r\n",
    "\r\n",
    "[1,2,3,4,5],[4,3,5,1,2]\r\n",
    "\r\n",
    "返回值：\r\n",
    "\r\n",
    "false"
   ],
   "metadata": {}
  },
  {
   "cell_type": "code",
   "execution_count": 1,
   "source": [
    "# -*- coding:utf-8 -*-\r\n",
    "# 知识点：出栈序列判定\r\n",
    "# 思路：\r\n",
    "# 1.初始化：用指针i指向pushV的第一个位置，指针j指向popV的第一个位置\r\n",
    "# 2.如果pushV[i] != popV[j]， 那么应该将pushV[i]放入栈中， ++i\r\n",
    "# 3.否则，pushV[i]==popV[j], 说明这个元素是放入栈中立马弹出，所以，++i, ++j\r\n",
    "# 4.然后应该检查popV[j]与栈顶元素是否相等，如果相等，++j, 并且弹出栈顶元素\r\n",
    "# 5.重复2，3，如果i==pushV.size(), 说明入栈序列访问完，此时检查栈是否为空，如果为空，说明匹配，否则不匹配。\r\n",
    "class Solution:\r\n",
    "    def IsPopOrder(self, pushV, popV):\r\n",
    "        # write code here\r\n",
    "        push_i, pop_j = 0, 0\r\n",
    "        temp_stack = []\r\n",
    "        while push_i < len(pushV):\r\n",
    "            if pushV[push_i] != popV[pop_j]:\r\n",
    "                temp_stack.append(pushV[push_i])\r\n",
    "                push_i += 1\r\n",
    "            else:\r\n",
    "                push_i += 1\r\n",
    "                pop_j += 1\r\n",
    "                while temp_stack and (popV[pop_j] == temp_stack[-1]):\r\n",
    "                    pop_j += 1\r\n",
    "                    temp_stack.pop(-1)\r\n",
    "        if len(temp_stack) == 0:\r\n",
    "            return True\r\n",
    "        else:\r\n",
    "            return False"
   ],
   "outputs": [],
   "metadata": {}
  },
  {
   "cell_type": "code",
   "execution_count": 2,
   "source": [
    "pushV, popV = [1,2,3,4,5],[4,3,5,1,2]\r\n",
    "solution = Solution()\r\n",
    "solution.IsPopOrder(pushV, popV)"
   ],
   "outputs": [
    {
     "output_type": "execute_result",
     "data": {
      "text/plain": [
       "False"
      ]
     },
     "metadata": {},
     "execution_count": 2
    }
   ],
   "metadata": {}
  }
 ],
 "metadata": {
  "orig_nbformat": 4,
  "language_info": {
   "name": "python",
   "version": "3.9.0",
   "mimetype": "text/x-python",
   "codemirror_mode": {
    "name": "ipython",
    "version": 3
   },
   "pygments_lexer": "ipython3",
   "nbconvert_exporter": "python",
   "file_extension": ".py"
  },
  "kernelspec": {
   "name": "python3",
   "display_name": "Python 3.9.0 64-bit"
  },
  "interpreter": {
   "hash": "f20b2097a6117be912941663ad67ec177d0763a66d462869a2781b10adfa7b64"
  }
 },
 "nbformat": 4,
 "nbformat_minor": 2
}