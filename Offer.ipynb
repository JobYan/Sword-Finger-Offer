{
 "cells": [
  {
   "cell_type": "markdown",
   "source": [
    "# 面试题29:\r\n",
    "输入一个矩阵，按照从外向里以顺时针的顺序依次打印出每一个数字，例如，如果输入如下4 X 4矩阵：\r\n",
    "\r\n",
    "[[1,2,3,4],  \r\n",
    " [5,6,7,8],  \r\n",
    " [9,10,11,12],  \r\n",
    " [13,14,15,16]]  \r\n",
    " \r\n",
    "则依次打印出数字  \r\n",
    "\r\n",
    "[1,2,3,4,8,12,16,15,14,13,9,5,6,7,11,10]"
   ],
   "metadata": {}
  },
  {
   "cell_type": "code",
   "execution_count": null,
   "source": [
    "# -*- coding:utf-8 -*-\r\n",
    "class Solution:\r\n",
    "    # matrix类型为二维列表，需要返回列表\r\n",
    "    def printMatrix(self, matrix):\r\n",
    "        # write code here\r\n",
    "        if not matrix:return []\r\n",
    "        res  = []\r\n",
    "        while matrix:\r\n",
    "            res += matrix.pop(0)\r\n",
    "            matrix = list(zip(*matrix))[::-1]\r\n",
    "        return res"
   ],
   "outputs": [],
   "metadata": {}
  },
  {
   "cell_type": "code",
   "execution_count": 5,
   "source": [
    "matrix = [[1,2,3,4],[5,6,7,8],[9,10,11,12],[13,14,15,16]]\r\n",
    "solution = Solution()\r\n",
    "solution.printMatrix(matrix=matrix)"
   ],
   "outputs": [
    {
     "output_type": "stream",
     "name": "stdout",
     "text": [
      "res:  [1, 2, 3, 4]\n",
      "matrix:  [(8, 12, 16), (7, 11, 15), (6, 10, 14), (5, 9, 13)]\n",
      "res:  [1, 2, 3, 4, 8, 12, 16]\n",
      "matrix:  [(15, 14, 13), (11, 10, 9), (7, 6, 5)]\n",
      "res:  [1, 2, 3, 4, 8, 12, 16, 15, 14, 13]\n",
      "matrix:  [(9, 5), (10, 6), (11, 7)]\n",
      "res:  [1, 2, 3, 4, 8, 12, 16, 15, 14, 13, 9, 5]\n",
      "matrix:  [(6, 7), (10, 11)]\n",
      "res:  [1, 2, 3, 4, 8, 12, 16, 15, 14, 13, 9, 5, 6, 7]\n",
      "matrix:  [(11,), (10,)]\n",
      "res:  [1, 2, 3, 4, 8, 12, 16, 15, 14, 13, 9, 5, 6, 7, 11]\n",
      "matrix:  [(10,)]\n",
      "res:  [1, 2, 3, 4, 8, 12, 16, 15, 14, 13, 9, 5, 6, 7, 11, 10]\n",
      "matrix:  []\n"
     ]
    },
    {
     "output_type": "execute_result",
     "data": {
      "text/plain": [
       "[1, 2, 3, 4, 8, 12, 16, 15, 14, 13, 9, 5, 6, 7, 11, 10]"
      ]
     },
     "metadata": {},
     "execution_count": 5
    }
   ],
   "metadata": {}
  },
  {
   "cell_type": "markdown",
   "source": [
    "# 反过来想想，如果是逆时针呢？\r\n",
    "输入一个矩阵，按照从外向里以逆时针的顺序依次打印出每一个数字，例如，如果输入如下4 X 4矩阵：\r\n",
    "\r\n",
    "[[1,2,3,4],  \r\n",
    " [5,6,7,8],  \r\n",
    " [9,10,11,12],  \r\n",
    " [13,14,15,16]]  \r\n",
    " \r\n",
    "则依次打印出数字  \r\n",
    "\r\n",
    "[1, 5, 9, 13, 14, 15, 16, 12, 8, 4, 3, 2, 6, 10, 11, 7]"
   ],
   "metadata": {}
  },
  {
   "cell_type": "code",
   "execution_count": 13,
   "source": [
    "# 可以试着把原来的矩阵排列成顺时针的方式，并利用上节的方法\r\n",
    "matrix = [[1,2,3,4],[5,6,7,8],[9,10,11,12],[13,14,15,16]]\r\n",
    "# 转置\r\n",
    "matrix_new = []\r\n",
    "j = 0\r\n",
    "for i in range(len(matrix)):\r\n",
    "    temp = []\r\n",
    "    for j in range(len(matrix[0])):\r\n",
    "        temp.append(matrix[j][i])\r\n",
    "    matrix_new.append(temp)\r\n",
    "solution = Solution()\r\n",
    "solution.printMatrix(matrix=matrix_new)"
   ],
   "outputs": [
    {
     "output_type": "stream",
     "name": "stdout",
     "text": [
      "res:  [1, 5, 9, 13]\n",
      "matrix:  [(14, 15, 16), (10, 11, 12), (6, 7, 8), (2, 3, 4)]\n",
      "res:  [1, 5, 9, 13, 14, 15, 16]\n",
      "matrix:  [(12, 8, 4), (11, 7, 3), (10, 6, 2)]\n",
      "res:  [1, 5, 9, 13, 14, 15, 16, 12, 8, 4]\n",
      "matrix:  [(3, 2), (7, 6), (11, 10)]\n",
      "res:  [1, 5, 9, 13, 14, 15, 16, 12, 8, 4, 3, 2]\n",
      "matrix:  [(6, 10), (7, 11)]\n",
      "res:  [1, 5, 9, 13, 14, 15, 16, 12, 8, 4, 3, 2, 6, 10]\n",
      "matrix:  [(11,), (7,)]\n",
      "res:  [1, 5, 9, 13, 14, 15, 16, 12, 8, 4, 3, 2, 6, 10, 11]\n",
      "matrix:  [(7,)]\n",
      "res:  [1, 5, 9, 13, 14, 15, 16, 12, 8, 4, 3, 2, 6, 10, 11, 7]\n",
      "matrix:  []\n"
     ]
    },
    {
     "output_type": "execute_result",
     "data": {
      "text/plain": [
       "[1, 5, 9, 13, 14, 15, 16, 12, 8, 4, 3, 2, 6, 10, 11, 7]"
      ]
     },
     "metadata": {},
     "execution_count": 13
    }
   ],
   "metadata": {}
  },
  {
   "cell_type": "code",
   "execution_count": 27,
   "source": [
    "# 重写 printMatrix 实现逆时针输出\r\n",
    "# -*- coding:utf-8 -*-\r\n",
    "class niSolution:\r\n",
    "    # matrix类型为二维列表，需要返回列表\r\n",
    "    def printMatrix(self, matrix):\r\n",
    "        # write code here\r\n",
    "        if not matrix:return []\r\n",
    "        res  = []\r\n",
    "        matrix = list(zip(*matrix))\r\n",
    "        res += matrix.pop(0)\r\n",
    "        while matrix: \r\n",
    "            matrix = list(zip(*matrix))[::-1]\r\n",
    "            res += matrix.pop(0)\r\n",
    "        return res"
   ],
   "outputs": [],
   "metadata": {}
  },
  {
   "cell_type": "code",
   "execution_count": 28,
   "source": [
    "matrix = [[1,2,3,4],[5,6,7,8],[9,10,11,12],[13,14,15,16]]\r\n",
    "solution = niSolution()\r\n",
    "solution.printMatrix(matrix=matrix)"
   ],
   "outputs": [
    {
     "output_type": "execute_result",
     "data": {
      "text/plain": [
       "[1, 5, 9, 13, 14, 15, 16, 12, 8, 4, 3, 2, 6, 10, 11, 7]"
      ]
     },
     "metadata": {},
     "execution_count": 28
    }
   ],
   "metadata": {}
  }
 ],
 "metadata": {
  "orig_nbformat": 4,
  "language_info": {
   "name": "python",
   "version": "3.9.0",
   "mimetype": "text/x-python",
   "codemirror_mode": {
    "name": "ipython",
    "version": 3
   },
   "pygments_lexer": "ipython3",
   "nbconvert_exporter": "python",
   "file_extension": ".py"
  },
  "kernelspec": {
   "name": "python3",
   "display_name": "Python 3.9.0 64-bit ('offer': conda)"
  },
  "interpreter": {
   "hash": "f20b2097a6117be912941663ad67ec177d0763a66d462869a2781b10adfa7b64"
  }
 },
 "nbformat": 4,
 "nbformat_minor": 2
}