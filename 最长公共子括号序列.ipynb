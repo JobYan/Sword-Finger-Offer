{
 "cells": [
  {
   "cell_type": "markdown",
   "source": [
    "# 题目: 最长公共子括号序列\r\n",
    "描述\r\n",
    "一个合法的括号匹配序列被定义为:\r\n",
    "1. 空串\"\"是合法的括号序列\r\n",
    "2. 如果\"X\"和\"Y\"是合法的序列,那么\"XY\"也是一个合法的括号序列\r\n",
    "3. 如果\"X\"是一个合法的序列,那么\"(X)\"也是一个合法的括号序列\r\n",
    "4. 每个合法的括号序列都可以由上面的规则生成\r\n",
    "例如\"\", \"()\", \"()()()\", \"(()())\", \"(((()))\"都是合法的。  \r\n",
    "\r\n",
    "从一个字符串S中移除零个或者多个字符得到的序列称为S的子序列。\r\n",
    "例如\"abcde\"的子序列有\"abe\",\"\",\"abcde\"等。  \r\n",
    "定义LCS(S,T)为字符串S和字符串T最长公共子序列的长度,即一个最长的序列W既是S的子序列也是T的子序列的长度。  \r\n",
    "小易给出一个合法的括号匹配序列s, 小易希望你能找出具有以下特征的括号序列t:\r\n",
    "1. t跟s不同,但是长度相同\r\n",
    "2. t也是一个合法的括号匹配序列\r\n",
    "3. LCS(s, t)是满足上述两个条件的t中最大的\r\n",
    "因为这样的t可能存在多个,小易需要你计算出满足条件的t有多少个。\r\n",
    "\r\n",
    "如样例所示: s = \"(())()\",跟字符串s长度相同的合法括号匹配序列有:\r\n",
    "\"()(())\", \"((()))\", \"()()()\", \"(()())\",其中LCS( \"(())()\", \"()(())\" )为4,其他三个都为5,所以输出3.\r\n",
    "输入描述：\r\n",
    "输入包括字符串s(4 ≤ |s| ≤ 50,|s|表示字符串长度),保证s是一个合法的括号匹配序列。\r\n",
    "输出描述：\r\n",
    "输出一个正整数,满足条件的t的个数。"
   ],
   "metadata": {}
  },
  {
   "cell_type": "markdown",
   "source": [
    "示例1\r\n",
    "输入：\r\n",
    "\r\n",
    "(())()\r\n",
    "\r\n",
    "输出：\r\n",
    "\r\n",
    "3"
   ],
   "metadata": {}
  },
  {
   "cell_type": "code",
   "execution_count": 16,
   "source": [
    "def check(t):\r\n",
    "    \"\"\"\r\n",
    "    检查括号匹配序列是否合法\r\n",
    "    \"\"\"\r\n",
    "    cnt = 0\r\n",
    "    for i in t:\r\n",
    "        if i == \"(\":\r\n",
    "            cnt += 1\r\n",
    "        else:\r\n",
    "            cnt -= 1\r\n",
    "        if cnt < 0:\r\n",
    "            return False\r\n",
    "    if cnt == 0:\r\n",
    "        return True\r\n",
    "    else:\r\n",
    "        return False\r\n",
    "\r\n",
    "# 思路：取出字符串中的某一个字符c，得到一个剩余字符串remain_str，依次把c插入到remain_str中\r\n",
    "# 得到新的字符串，如果该字符串是合法的括号序列，并且与源字符串不相等，则个数加1\r\n",
    "# 关键点：对于LCS(s, t)，必然会存在长度为len(s) - 1的公共子序列\r\n",
    "\r\n",
    "# s = input()\r\n",
    "s = \"(())()\"\r\n",
    "res = []\r\n",
    "n = len(s)\r\n",
    "for i in range(n):\r\n",
    "    c = s[i]\r\n",
    "    cur = s[:i] + s[i + 1:]\r\n",
    "    # 分别把c插入到remain_str中\r\n",
    "    for j in range(n-1):  # 因为 n-1 就到 cur 的末尾了，再多迭代一次，还是 cur 的末尾。\r\n",
    "        t = cur[:j] + c + cur[j:]\r\n",
    "        # 判断new_str是否是合法的括号序列，并且与源字符串不相等，并且这个new_str也不能重复\r\n",
    "        if t != s and check(t) and t not in res:\r\n",
    "            res.append(t)\r\n",
    "            \r\n",
    "print(len(res))"
   ],
   "outputs": [
    {
     "output_type": "stream",
     "name": "stdout",
     "text": [
      "3\n"
     ]
    }
   ],
   "metadata": {}
  }
 ],
 "metadata": {
  "orig_nbformat": 4,
  "language_info": {
   "name": "python",
   "version": "3.9.0",
   "mimetype": "text/x-python",
   "codemirror_mode": {
    "name": "ipython",
    "version": 3
   },
   "pygments_lexer": "ipython3",
   "nbconvert_exporter": "python",
   "file_extension": ".py"
  },
  "kernelspec": {
   "name": "python3",
   "display_name": "Python 3.9.0 64-bit"
  },
  "interpreter": {
   "hash": "f20b2097a6117be912941663ad67ec177d0763a66d462869a2781b10adfa7b64"
  }
 },
 "nbformat": 4,
 "nbformat_minor": 2
}